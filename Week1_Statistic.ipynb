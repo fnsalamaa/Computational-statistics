{
  "nbformat": 4,
  "nbformat_minor": 0,
  "metadata": {
    "colab": {
      "provenance": []
    },
    "kernelspec": {
      "name": "python3",
      "display_name": "Python 3"
    },
    "language_info": {
      "name": "python"
    }
  },
  "cells": [
    {
      "cell_type": "markdown",
      "source": [
        "**Mean Study Case**"
      ],
      "metadata": {
        "id": "uVXF-O0rcpQU"
      }
    },
    {
      "cell_type": "markdown",
      "source": [
        "- Native"
      ],
      "metadata": {
        "id": "fpDczN-FgQ0T"
      }
    },
    {
      "cell_type": "code",
      "execution_count": 1,
      "metadata": {
        "colab": {
          "base_uri": "https://localhost:8080/"
        },
        "id": "K7sHHbI5arWl",
        "outputId": "c214d614-d855-4817-8494-84463c3eac25"
      },
      "outputs": [
        {
          "output_type": "stream",
          "name": "stdout",
          "text": [
            "128.0\n"
          ]
        }
      ],
      "source": [
        "apel = [100,200,150,100,120,80,90,160,110,170]\n",
        "\n",
        "total_berat= 0\n",
        "\n",
        "for i in range (len(apel)):\n",
        "      total_berat = total_berat + apel[i]\n",
        "\n",
        "avg_apel = total_berat / len(apel)\n",
        "\n",
        "print(avg_apel)"
      ]
    },
    {
      "cell_type": "markdown",
      "source": [
        "- Using Numpy"
      ],
      "metadata": {
        "id": "ZERB7-e8gTb8"
      }
    },
    {
      "cell_type": "code",
      "source": [
        "import numpy as np\n",
        "apel = [100,200,150,100,120,80,90,160,110,170]\n",
        "avg_apel = np.mean(apel)\n",
        "print(avg_apel)"
      ],
      "metadata": {
        "colab": {
          "base_uri": "https://localhost:8080/"
        },
        "id": "Ay1fB6oubhRw",
        "outputId": "4666cb01-0ecd-4a9c-b9ed-e65d63db6d49"
      },
      "execution_count": 3,
      "outputs": [
        {
          "output_type": "stream",
          "name": "stdout",
          "text": [
            "128.0\n"
          ]
        }
      ]
    },
    {
      "cell_type": "markdown",
      "source": [
        "**Median Study Case**"
      ],
      "metadata": {
        "id": "0ErRCjExds0A"
      }
    },
    {
      "cell_type": "markdown",
      "source": [
        "- Native"
      ],
      "metadata": {
        "id": "D_hcX3Vpf1W6"
      }
    },
    {
      "cell_type": "code",
      "source": [
        "import math\n",
        "\n",
        "def bubblesort(elements):\n",
        "  for n in range(len(elements)-1, 0 , -1):\n",
        "    for i in range(n):\n",
        "      if elements[i] > elements[i+1]:\n",
        "        elements[i], elements [i+1] = elements[i+1], elements[i]\n",
        "  return elements\n",
        "\n",
        "def calc_median(elements):\n",
        "  elements = bubblesort(elements)\n",
        "  len_element= len(elements)\n",
        "  if len_element %2 == 0:\n",
        "    center = math.floor(len_element/2)\n",
        "    return(elements[center-1] + elements[center]) /2\n",
        "  else:\n",
        "    return elements[math.ceil(len_element/2)-1]\n",
        "\n",
        "apel = [100,200,150,100,120,80,90,160,110,170]\n",
        "median = calc_median(apel)\n",
        "print(median)"
      ],
      "metadata": {
        "colab": {
          "base_uri": "https://localhost:8080/"
        },
        "id": "mil0dlvIdxmh",
        "outputId": "1094d6c4-35b6-418b-f90e-5101b33bf027"
      },
      "execution_count": 6,
      "outputs": [
        {
          "output_type": "stream",
          "name": "stdout",
          "text": [
            "115.0\n"
          ]
        }
      ]
    },
    {
      "cell_type": "markdown",
      "source": [
        "- Using Numpy"
      ],
      "metadata": {
        "id": "eVNwx2cIfvdQ"
      }
    },
    {
      "cell_type": "code",
      "source": [
        "import numpy as np\n",
        "apel = [100,200,150,100,120,80,90,160,110,170]\n",
        "med_apel = np.median(apel)\n",
        "apel.sort()\n",
        "apel_urut = ' '.join(map(str, apel))\n",
        "print('Apel urut : {:s}'.format(apel_urut))\n",
        "print(med_apel)"
      ],
      "metadata": {
        "colab": {
          "base_uri": "https://localhost:8080/"
        },
        "id": "Jm-maESSfVo-",
        "outputId": "d0c43cdd-1f61-4463-a59e-6eb2220fdbde"
      },
      "execution_count": 7,
      "outputs": [
        {
          "output_type": "stream",
          "name": "stdout",
          "text": [
            "Apel urut : 80 90 100 100 110 120 150 160 170 200\n",
            "115.0\n"
          ]
        }
      ]
    },
    {
      "cell_type": "markdown",
      "source": [
        "**Mode Study Case**"
      ],
      "metadata": {
        "id": "zQCLar9Hgi8v"
      }
    },
    {
      "cell_type": "markdown",
      "source": [
        "- Scipy vs Native"
      ],
      "metadata": {
        "id": "LWG6__4riZrK"
      }
    },
    {
      "cell_type": "code",
      "source": [
        "from scipy import stats\n",
        "import statistics as s\n",
        "\n",
        "nilai = [70, 80,70,70, 90, 100]\n",
        "\n",
        "mode_nilai = stats.mode(nilai) #scipy\n",
        "modus = s.mode(nilai) #native python\n",
        "print(modus)\n",
        "print(mode_nilai)\n",
        "print(mode_nilai.mode)"
      ],
      "metadata": {
        "colab": {
          "base_uri": "https://localhost:8080/"
        },
        "id": "pAoIoffzglnk",
        "outputId": "9bc795ba-e697-4be0-9dba-a01661da21d1"
      },
      "execution_count": 10,
      "outputs": [
        {
          "output_type": "stream",
          "name": "stdout",
          "text": [
            "70\n",
            "ModeResult(mode=array([70]), count=array([3]))\n",
            "[70]\n"
          ]
        }
      ]
    },
    {
      "cell_type": "markdown",
      "source": [
        "- Mode with apple data"
      ],
      "metadata": {
        "id": "skEPMwb7jXqK"
      }
    },
    {
      "cell_type": "code",
      "source": [
        "from scipy import stats\n",
        "import statistics as s\n",
        "\n",
        "apel = [100, 200, 150, 100, 120, 80, 90, 160, 110, 170]\n",
        "\n",
        "mode_apel = stats.mode(apel)\n",
        "modus = s.mode(apel)\n",
        "print(modus)\n",
        "print(mode_apel)\n",
        "print(mode_apel.mode)"
      ],
      "metadata": {
        "colab": {
          "base_uri": "https://localhost:8080/"
        },
        "id": "EkGYhG2FjTqu",
        "outputId": "c1ec3290-ad72-4e39-ff61-0e222c3753b6"
      },
      "execution_count": 11,
      "outputs": [
        {
          "output_type": "stream",
          "name": "stdout",
          "text": [
            "100\n",
            "ModeResult(mode=array([100]), count=array([2]))\n",
            "[100]\n"
          ]
        }
      ]
    },
    {
      "cell_type": "markdown",
      "source": [
        "**Range Example**"
      ],
      "metadata": {
        "id": "rgOzTBgynrk1"
      }
    },
    {
      "cell_type": "markdown",
      "source": [
        "- Using python"
      ],
      "metadata": {
        "id": "kwOWez_Voebn"
      }
    },
    {
      "cell_type": "code",
      "source": [
        "import numpy as np\n",
        "\n",
        "data = np.array([23, 56, 45, 65, 59, 55, 62, 54, 85, 25])\n",
        "\n",
        "data_max = max(data)\n",
        "data_min = min(data)\n",
        "range = data_max - data_min\n",
        "print(range)"
      ],
      "metadata": {
        "colab": {
          "base_uri": "https://localhost:8080/"
        },
        "id": "7UDN4HPunvbX",
        "outputId": "cfd8da18-fa04-4506-e828-ed85b71fbf5e"
      },
      "execution_count": 12,
      "outputs": [
        {
          "output_type": "stream",
          "name": "stdout",
          "text": [
            "62\n"
          ]
        }
      ]
    },
    {
      "cell_type": "markdown",
      "source": [
        "**Interquartile Range (IQR)**"
      ],
      "metadata": {
        "id": "Gf96E9TrxjpD"
      }
    },
    {
      "cell_type": "code",
      "source": [
        "import numpy as np\n",
        "import pandas as pd\n",
        "\n",
        "data_baru = np.array([23,56,45,65,59,55,62,54,85,25,55])\n",
        "print(pd.DataFrame(data_baru).describe())"
      ],
      "metadata": {
        "colab": {
          "base_uri": "https://localhost:8080/"
        },
        "id": "PuTSYoagxpuL",
        "outputId": "dff153bf-16ef-4536-ac65-ca28609c5824"
      },
      "execution_count": 14,
      "outputs": [
        {
          "output_type": "stream",
          "name": "stdout",
          "text": [
            "               0\n",
            "count  11.000000\n",
            "mean   53.090909\n",
            "std    17.466852\n",
            "min    23.000000\n",
            "25%    49.500000\n",
            "50%    55.000000\n",
            "75%    60.500000\n",
            "max    85.000000\n"
          ]
        }
      ]
    },
    {
      "cell_type": "markdown",
      "source": [
        "**Scaling 1**"
      ],
      "metadata": {
        "id": "6WcInCsfCmQf"
      }
    },
    {
      "cell_type": "code",
      "source": [
        "import numpy as np\n",
        "import matplotlib.pyplot as plt\n",
        "from sklearn.preprocessing import MinMaxScaler, StandardScaler\n",
        "\n",
        "data_raw = np.array([\n",
        "    [2,3,7,30],\n",
        "    [9,4,6,1],\n",
        "    [8,15,2,40],\n",
        "    [20,10,2,6]\n",
        "])\n",
        "\n",
        "scaler = MinMaxScaler()\n",
        "data_scale = scaler.fit_transform(data_raw)"
      ],
      "metadata": {
        "id": "jnZQ9muBCqz_"
      },
      "execution_count": 21,
      "outputs": []
    },
    {
      "cell_type": "markdown",
      "source": [
        "**Scaling 2**"
      ],
      "metadata": {
        "id": "7SHOuCcfy7qZ"
      }
    },
    {
      "cell_type": "code",
      "source": [
        "import numpy as np\n",
        "import matplotlib.pyplot as plt\n",
        "from sklearn.preprocessing import MinMaxScaler, StandardScaler\n",
        "\n",
        "data_raw = np.array([\n",
        "    [2,3,7,30],\n",
        "    [9,4,6,1],\n",
        "    [8,15,2,40],\n",
        "    [20,10,2,6]\n",
        "])\n",
        "\n",
        "stand = StandardScaler()\n",
        "data_stand = stand.fit_transform(data_raw)\n",
        "\n",
        "plt.boxplot(data_stand)"
      ],
      "metadata": {
        "colab": {
          "base_uri": "https://localhost:8080/",
          "height": 768
        },
        "id": "PofT4Cc2y7Uf",
        "outputId": "351bb8e2-d202-4eb3-d68e-0a62d6e5302d"
      },
      "execution_count": 18,
      "outputs": [
        {
          "output_type": "execute_result",
          "data": {
            "text/plain": [
              "{'whiskers': [<matplotlib.lines.Line2D at 0x7fd5b940aac0>,\n",
              "  <matplotlib.lines.Line2D at 0x7fd5b940ae20>,\n",
              "  <matplotlib.lines.Line2D at 0x7fd5b942e310>,\n",
              "  <matplotlib.lines.Line2D at 0x7fd5b942e670>,\n",
              "  <matplotlib.lines.Line2D at 0x7fd5b93b9af0>,\n",
              "  <matplotlib.lines.Line2D at 0x7fd5b93b9e50>,\n",
              "  <matplotlib.lines.Line2D at 0x7fd5b93cd310>,\n",
              "  <matplotlib.lines.Line2D at 0x7fd5b93cd670>],\n",
              " 'caps': [<matplotlib.lines.Line2D at 0x7fd5b94221c0>,\n",
              "  <matplotlib.lines.Line2D at 0x7fd5b9422520>,\n",
              "  <matplotlib.lines.Line2D at 0x7fd5b942e9d0>,\n",
              "  <matplotlib.lines.Line2D at 0x7fd5b942ed30>,\n",
              "  <matplotlib.lines.Line2D at 0x7fd5b93c41f0>,\n",
              "  <matplotlib.lines.Line2D at 0x7fd5b93c4550>,\n",
              "  <matplotlib.lines.Line2D at 0x7fd5b93cd9d0>,\n",
              "  <matplotlib.lines.Line2D at 0x7fd5b93cdd30>],\n",
              " 'boxes': [<matplotlib.lines.Line2D at 0x7fd5b940a760>,\n",
              "  <matplotlib.lines.Line2D at 0x7fd5b9422f70>,\n",
              "  <matplotlib.lines.Line2D at 0x7fd5b93b9790>,\n",
              "  <matplotlib.lines.Line2D at 0x7fd5b93c4f70>],\n",
              " 'medians': [<matplotlib.lines.Line2D at 0x7fd5b9422880>,\n",
              "  <matplotlib.lines.Line2D at 0x7fd5b93b90d0>,\n",
              "  <matplotlib.lines.Line2D at 0x7fd5b93c48b0>,\n",
              "  <matplotlib.lines.Line2D at 0x7fd5b93d80d0>],\n",
              " 'fliers': [<matplotlib.lines.Line2D at 0x7fd5b9422b80>,\n",
              "  <matplotlib.lines.Line2D at 0x7fd5b93b93d0>,\n",
              "  <matplotlib.lines.Line2D at 0x7fd5b93c4bb0>,\n",
              "  <matplotlib.lines.Line2D at 0x7fd5b93d83d0>],\n",
              " 'means': []}"
            ]
          },
          "metadata": {},
          "execution_count": 18
        },
        {
          "output_type": "display_data",
          "data": {
            "text/plain": [
              "<Figure size 432x288 with 1 Axes>"
            ],
            "image/png": "[encoded data removed]"
          },
          "metadata": {
            "needs_background": "light"
          }
        }
      ]
    }
  ]
}